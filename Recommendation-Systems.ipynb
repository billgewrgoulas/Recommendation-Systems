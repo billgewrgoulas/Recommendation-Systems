{
 "cells": [
  {
   "cell_type": "code",
   "execution_count": 1,
   "id": "b13368ef-df50-456e-bc62-67698a9ac34d",
   "metadata": {},
   "outputs": [],
   "source": [
    "import numpy as np\n",
    "import scipy as sp\n",
    "import pandas as pd\n",
    "import matplotlib.pyplot as plt\n",
    "import seaborn as sns\n",
    "import scipy.sparse as sp_sparse\n",
    "import sklearn.metrics as metrics\n",
    "from scipy.sparse.linalg import svds\n",
    "from sklearn.metrics.pairwise import cosine_similarity as cs\n",
    "from sklearn.metrics import mean_squared_error as mse\n",
    "from sklearn.utils import shuffle\n",
    "from sklearn.cluster import KMeans\n",
    "from sklearn.feature_extraction.text import TfidfVectorizer as tfidf\n",
    "import scipy.sparse.linalg as linalg\n",
    "import math\n",
    "import time\n",
    "\n",
    "%matplotlib inline"
   ]
  },
  {
   "cell_type": "markdown",
   "id": "acfaddb6-5768-46fe-8d5b-8cb9de27f696",
   "metadata": {},
   "source": [
    "# STEP 1: Preprocessing and Splitting into Train and Test data\n"
   ]
  },
  {
   "cell_type": "code",
   "execution_count": 3,
   "id": "d4542d7c-2b7b-4302-8613-1a6b43075e6b",
   "metadata": {},
   "outputs": [
    {
     "data": {
      "text/html": [
       "<div>\n",
       "<style scoped>\n",
       "    .dataframe tbody tr th:only-of-type {\n",
       "        vertical-align: middle;\n",
       "    }\n",
       "\n",
       "    .dataframe tbody tr th {\n",
       "        vertical-align: top;\n",
       "    }\n",
       "\n",
       "    .dataframe thead th {\n",
       "        text-align: right;\n",
       "    }\n",
       "</style>\n",
       "<table border=\"1\" class=\"dataframe\">\n",
       "  <thead>\n",
       "    <tr style=\"text-align: right;\">\n",
       "      <th>joke_id</th>\n",
       "      <th>0</th>\n",
       "      <th>1</th>\n",
       "      <th>2</th>\n",
       "      <th>3</th>\n",
       "      <th>4</th>\n",
       "      <th>5</th>\n",
       "      <th>6</th>\n",
       "      <th>7</th>\n",
       "      <th>8</th>\n",
       "      <th>9</th>\n",
       "      <th>...</th>\n",
       "      <th>129</th>\n",
       "      <th>130</th>\n",
       "      <th>131</th>\n",
       "      <th>132</th>\n",
       "      <th>133</th>\n",
       "      <th>134</th>\n",
       "      <th>135</th>\n",
       "      <th>136</th>\n",
       "      <th>137</th>\n",
       "      <th>138</th>\n",
       "    </tr>\n",
       "    <tr>\n",
       "      <th>user_id</th>\n",
       "      <th></th>\n",
       "      <th></th>\n",
       "      <th></th>\n",
       "      <th></th>\n",
       "      <th></th>\n",
       "      <th></th>\n",
       "      <th></th>\n",
       "      <th></th>\n",
       "      <th></th>\n",
       "      <th></th>\n",
       "      <th></th>\n",
       "      <th></th>\n",
       "      <th></th>\n",
       "      <th></th>\n",
       "      <th></th>\n",
       "      <th></th>\n",
       "      <th></th>\n",
       "      <th></th>\n",
       "      <th></th>\n",
       "      <th></th>\n",
       "      <th></th>\n",
       "    </tr>\n",
       "  </thead>\n",
       "  <tbody>\n",
       "    <tr>\n",
       "      <th>0</th>\n",
       "      <td>0.219</td>\n",
       "      <td>-9.281</td>\n",
       "      <td>0.000</td>\n",
       "      <td>-6.781</td>\n",
       "      <td>0.875</td>\n",
       "      <td>-9.656</td>\n",
       "      <td>-9.031</td>\n",
       "      <td>-7.469</td>\n",
       "      <td>-8.719</td>\n",
       "      <td>0.000</td>\n",
       "      <td>...</td>\n",
       "      <td>0.0</td>\n",
       "      <td>0.0</td>\n",
       "      <td>0.0</td>\n",
       "      <td>0.0</td>\n",
       "      <td>0.0</td>\n",
       "      <td>0.0</td>\n",
       "      <td>0.0</td>\n",
       "      <td>0.0</td>\n",
       "      <td>0.0</td>\n",
       "      <td>0.0</td>\n",
       "    </tr>\n",
       "    <tr>\n",
       "      <th>1</th>\n",
       "      <td>-9.688</td>\n",
       "      <td>9.938</td>\n",
       "      <td>9.531</td>\n",
       "      <td>9.938</td>\n",
       "      <td>0.406</td>\n",
       "      <td>0.000</td>\n",
       "      <td>9.656</td>\n",
       "      <td>0.000</td>\n",
       "      <td>0.000</td>\n",
       "      <td>-9.125</td>\n",
       "      <td>...</td>\n",
       "      <td>0.0</td>\n",
       "      <td>0.0</td>\n",
       "      <td>0.0</td>\n",
       "      <td>0.0</td>\n",
       "      <td>0.0</td>\n",
       "      <td>0.0</td>\n",
       "      <td>0.0</td>\n",
       "      <td>0.0</td>\n",
       "      <td>0.0</td>\n",
       "      <td>0.0</td>\n",
       "    </tr>\n",
       "    <tr>\n",
       "      <th>2</th>\n",
       "      <td>0.000</td>\n",
       "      <td>0.000</td>\n",
       "      <td>-7.219</td>\n",
       "      <td>-2.031</td>\n",
       "      <td>-9.938</td>\n",
       "      <td>0.000</td>\n",
       "      <td>0.000</td>\n",
       "      <td>-9.812</td>\n",
       "      <td>-9.781</td>\n",
       "      <td>0.000</td>\n",
       "      <td>...</td>\n",
       "      <td>0.0</td>\n",
       "      <td>0.0</td>\n",
       "      <td>0.0</td>\n",
       "      <td>0.0</td>\n",
       "      <td>0.0</td>\n",
       "      <td>0.0</td>\n",
       "      <td>0.0</td>\n",
       "      <td>0.0</td>\n",
       "      <td>0.0</td>\n",
       "      <td>0.0</td>\n",
       "    </tr>\n",
       "    <tr>\n",
       "      <th>3</th>\n",
       "      <td>6.906</td>\n",
       "      <td>0.000</td>\n",
       "      <td>-5.906</td>\n",
       "      <td>0.000</td>\n",
       "      <td>0.000</td>\n",
       "      <td>3.875</td>\n",
       "      <td>6.219</td>\n",
       "      <td>0.000</td>\n",
       "      <td>6.094</td>\n",
       "      <td>5.406</td>\n",
       "      <td>...</td>\n",
       "      <td>0.0</td>\n",
       "      <td>0.0</td>\n",
       "      <td>0.0</td>\n",
       "      <td>0.0</td>\n",
       "      <td>0.0</td>\n",
       "      <td>0.0</td>\n",
       "      <td>0.0</td>\n",
       "      <td>0.0</td>\n",
       "      <td>0.0</td>\n",
       "      <td>0.0</td>\n",
       "    </tr>\n",
       "    <tr>\n",
       "      <th>4</th>\n",
       "      <td>-0.031</td>\n",
       "      <td>0.000</td>\n",
       "      <td>0.000</td>\n",
       "      <td>7.500</td>\n",
       "      <td>-7.219</td>\n",
       "      <td>0.000</td>\n",
       "      <td>0.000</td>\n",
       "      <td>0.000</td>\n",
       "      <td>3.656</td>\n",
       "      <td>0.000</td>\n",
       "      <td>...</td>\n",
       "      <td>0.0</td>\n",
       "      <td>0.0</td>\n",
       "      <td>0.0</td>\n",
       "      <td>0.0</td>\n",
       "      <td>0.0</td>\n",
       "      <td>0.0</td>\n",
       "      <td>0.0</td>\n",
       "      <td>0.0</td>\n",
       "      <td>0.0</td>\n",
       "      <td>0.0</td>\n",
       "    </tr>\n",
       "  </tbody>\n",
       "</table>\n",
       "<p>5 rows × 139 columns</p>\n",
       "</div>"
      ],
      "text/plain": [
       "joke_id    0      1      2      3      4      5      6      7      8      9    \\\n",
       "user_id                                                                         \n",
       "0        0.219 -9.281  0.000 -6.781  0.875 -9.656 -9.031 -7.469 -8.719  0.000   \n",
       "1       -9.688  9.938  9.531  9.938  0.406  0.000  9.656  0.000  0.000 -9.125   \n",
       "2        0.000  0.000 -7.219 -2.031 -9.938  0.000  0.000 -9.812 -9.781  0.000   \n",
       "3        6.906  0.000 -5.906  0.000  0.000  3.875  6.219  0.000  6.094  5.406   \n",
       "4       -0.031  0.000  0.000  7.500 -7.219  0.000  0.000  0.000  3.656  0.000   \n",
       "\n",
       "joke_id  ...  129  130  131  132  133  134  135  136  137  138  \n",
       "user_id  ...                                                    \n",
       "0        ...  0.0  0.0  0.0  0.0  0.0  0.0  0.0  0.0  0.0  0.0  \n",
       "1        ...  0.0  0.0  0.0  0.0  0.0  0.0  0.0  0.0  0.0  0.0  \n",
       "2        ...  0.0  0.0  0.0  0.0  0.0  0.0  0.0  0.0  0.0  0.0  \n",
       "3        ...  0.0  0.0  0.0  0.0  0.0  0.0  0.0  0.0  0.0  0.0  \n",
       "4        ...  0.0  0.0  0.0  0.0  0.0  0.0  0.0  0.0  0.0  0.0  \n",
       "\n",
       "[5 rows x 139 columns]"
      ]
     },
     "metadata": {},
     "output_type": "display_data"
    }
   ],
   "source": [
    "#Preproccesing...\n",
    "scores = pd.read_csv('train.csv')\n",
    "scores.drop(['id'], inplace=True, axis=1)\n",
    "scores['Rating'] = scores['Rating'].apply(lambda x: 10^-15 if x == 0 else x)\n",
    "scores['user_id'] = scores['user_id'].apply(lambda x: x - 1)\n",
    "scores['joke_id'] = scores['joke_id'].apply(lambda x: x - 1)\n",
    "scores = shuffle(scores, random_state=2021)\n",
    "\n",
    "#keep the first 10000 as the test data\n",
    "test_data = scores.head(10000).copy()\n",
    "\n",
    "#set the ratings that we want to predict to 0\n",
    "scores.iloc[0:10000, 2] = 0\n",
    "\n",
    "#construct the Rating Matrix, rows will be the vectors of ratings for each user, set missing ratings to 0\n",
    "rating_matrix = scores.pivot_table(index='user_id', columns='joke_id', values='Rating')\n",
    "rating_matrix.fillna(0, inplace=True)\n",
    "\n",
    "display(rating_matrix.head())"
   ]
  },
  {
   "cell_type": "markdown",
   "id": "9a2f612d-1129-47fb-becc-c08a4c8b7870",
   "metadata": {},
   "source": [
    "# STEP 2 UA/JA"
   ]
  },
  {
   "cell_type": "code",
   "execution_count": 13,
   "id": "5150b3f2-107b-4d63-8258-3400bc10bb51",
   "metadata": {},
   "outputs": [
    {
     "name": "stdout",
     "output_type": "stream",
     "text": [
      "---------------------------------------------------------------\n",
      "User Average RMSE:  4.534468987648029\n",
      "1.791278600692749 seconds for UA ---\n",
      "---------------------------------------------------------------\n",
      "Joke Average RMSE:  5.0604868461241646\n",
      "1.8623385429382324 seconds for JA ---\n",
      "---------------------------------------------------------------\n"
     ]
    }
   ],
   "source": [
    "\n",
    "def UA(A, u):\n",
    "    return user_means[u]\n",
    "\n",
    "def JA(A, j):\n",
    "    return joke_means[j]\n",
    "\n",
    "print(\"---------------------------------------------------------------\")\n",
    "start_time = time.time()\n",
    "user_means = rating_matrix[rating_matrix!=0].mean(axis=1)\n",
    "predictions = []\n",
    "for i in range(10000):\n",
    "    row = test_data.iloc[i]\n",
    "    prediction = UA(rating_matrix, row['user_id'])\n",
    "    predictions.append(prediction)\n",
    "print(\"User Average RMSE: \", math.sqrt(mse(predictions, test_data['Rating'])))\n",
    "print(\"%s seconds for UA ---\" % (time.time() - start_time))\n",
    "print(\"---------------------------------------------------------------\")\n",
    "\n",
    "start_time = time.time()\n",
    "joke_means = rating_matrix[rating_matrix!=0].mean(axis=0)\n",
    "predictions = []\n",
    "for i in range(10000):\n",
    "    row = test_data.iloc[i]\n",
    "    prediction = JA(rating_matrix, row['joke_id'])\n",
    "    predictions.append(prediction)\n",
    "print(\"Joke Average RMSE: \", math.sqrt(mse(predictions, test_data['Rating'])))\n",
    "print(\"%s seconds for JA ---\" % (time.time() - start_time))\n",
    "print(\"---------------------------------------------------------------\")\n"
   ]
  },
  {
   "cell_type": "markdown",
   "id": "fdccfd56-d8c7-4ac3-bc47-f8c27bfac637",
   "metadata": {},
   "source": [
    "\n",
    "We notice that the User Average algorithm is more efficient in terms of Rating predictions, while they have the same execution time.\n",
    "\n"
   ]
  },
  {
   "cell_type": "markdown",
   "id": "6a7480a4-ad35-4bc3-80c6-4c5509738a2e",
   "metadata": {},
   "source": [
    "# Collaborative Filtering Methods"
   ]
  },
  {
   "cell_type": "markdown",
   "id": "81c59411-565c-4088-add3-210d4e9abe0a",
   "metadata": {},
   "source": [
    "## User Based Collaborative Filtering"
   ]
  },
  {
   "cell_type": "code",
   "execution_count": 95,
   "id": "c455ecfc-266f-46cb-b8a7-f73ff3778401",
   "metadata": {},
   "outputs": [
    {
     "name": "stdout",
     "output_type": "stream",
     "text": [
      "--- 388.6914367675781 seconds for 10 similar users ---\n",
      "Mean Squere Error: 4.509846040433214\n",
      "---------------------------\n",
      "--- 387.6416895389557 seconds for 25 similar users ---\n",
      "Mean Squere Error: 4.431311067791675\n",
      "---------------------------\n",
      "--- 389.46700716018677 seconds for 50 similar users ---\n",
      "Mean Squere Error: 4.409614759090046\n",
      "---------------------------\n",
      "--- 389.33389163017273 seconds for 75 similar users ---\n",
      "Mean Squere Error: 4.410295167719662\n",
      "---------------------------\n",
      "--- 391.2342381477356 seconds for 100 similar users ---\n",
      "Mean Squere Error: 4.407056688201253\n",
      "---------------------------\n"
     ]
    },
    {
     "data": {
      "text/plain": [
       "<AxesSubplot:>"
      ]
     },
     "execution_count": 95,
     "metadata": {},
     "output_type": "execute_result"
    },
    {
     "data": {
      "image/png": "[encoded data removed]",
      "text/plain": [
       "<Figure size 432x288 with 1 Axes>"
      ]
     },
     "metadata": {
      "needs_background": "light"
     },
     "output_type": "display_data"
    }
   ],
   "source": [
    "\n",
    "#convert the rating matrix into a sparse matrix in csr format\n",
    "R = sp_sparse.csr_matrix(rating_matrix)\n",
    "\n",
    "def UCF(A, k, u, j):\n",
    "    \n",
    "    #get vector of u, and find indices of users that rated j\n",
    "    users = np.nonzero(A[:, j])[0]    \n",
    "    u_vector = A[u, :]\n",
    "\n",
    "    #compute similarities between users that rated j and user u\n",
    "    vectors = A[users]\n",
    "    similarities = cs(vectors, u_vector).flatten()\n",
    "    \n",
    "    #sort similarities and scores at the same time\n",
    "    scores = vectors[:, j].data\n",
    "    combined = list(zip(similarities, scores))\n",
    "    combined.sort(reverse=True)\n",
    "    \n",
    "    #similar users should be at most k\n",
    "    combined = combined[0 : k]\n",
    "    lsts = list(zip(*combined))\n",
    "    \n",
    "    l1 = np.array(lsts[0])\n",
    "    l2 = np.array(lsts[1])\n",
    "    s = np.absolute(l1).sum()\n",
    "    \n",
    "    #case where all similarities are zero, predict mean of u\n",
    "    if s == 0: return user_means[u]\n",
    "    \n",
    "    #finally predict the score\n",
    "    return np.dot(l1.T, l2)/s\n",
    "\n",
    "ks = [10,25,50,75,100]\n",
    "error = []\n",
    "\n",
    "for k in ks:\n",
    "    predictions = []\n",
    "    start_time = time.time()\n",
    "    for i in range(10000):\n",
    "        row = test_data.iloc[i]\n",
    "        predictions.append(UCF(R, k, row['user_id'], row['joke_id']))\n",
    "    print(\"--- %s seconds for %s similar users ---\" % (time.time() - start_time, k))\n",
    "    er = math.sqrt(mse(predictions, test_data['Rating']))\n",
    "    error.append(er)\n",
    "    print(\"Mean Squere Error: %s\" % (er))\n",
    "    print('---------------------------')\n",
    "    \n",
    "sns.lineplot(x=ks, y=error, legend='brief', label=str('RMSE'))"
   ]
  },
  {
   "cell_type": "markdown",
   "id": "a19b8549-bba4-4d18-acf2-4743d458e0c3",
   "metadata": {},
   "source": [
    "\n",
    "# Comments:\n",
    "We observe that the number of identical users examined by the algorithm does not significantly affect the execution time. In addition, we see that as the number of like users increases, we do not have a significant decrease in RMSE."
   ]
  },
  {
   "cell_type": "markdown",
   "id": "75bdb8ba-f8f1-444e-9fdc-dfe1c45ff84b",
   "metadata": {},
   "source": [
    "## Item Based Collaborative Filtering"
   ]
  },
  {
   "cell_type": "code",
   "execution_count": 14,
   "id": "a783ff54-aaee-4ebf-8154-c91cd88b7531",
   "metadata": {},
   "outputs": [
    {
     "name": "stdout",
     "output_type": "stream",
     "text": [
      "--- 217.1093623638153 seconds for 1 similar jokes ---\n",
      "Mean Squere Error: 5.3148722548147855\n",
      "---------------------------\n",
      "--- 246.3784635066986 seconds for 2 similar jokes ---\n",
      "Mean Squere Error: 4.64595559943713\n",
      "---------------------------\n",
      "--- 224.14435815811157 seconds for 5 similar jokes ---\n",
      "Mean Squere Error: 4.24965375708707\n",
      "---------------------------\n",
      "--- 235.37284016609192 seconds for 7 similar jokes ---\n",
      "Mean Squere Error: 4.179303796164034\n",
      "---------------------------\n",
      "--- 255.3895709514618 seconds for 10 similar jokes ---\n",
      "Mean Squere Error: 4.157209017084698\n",
      "---------------------------\n"
     ]
    },
    {
     "data": {
      "text/plain": [
       "<AxesSubplot:>"
      ]
     },
     "execution_count": 14,
     "metadata": {},
     "output_type": "execute_result"
    },
    {
     "data": {
      "image/png": "[encoded data removed]",
      "text/plain": [
       "<Figure size 432x288 with 1 Axes>"
      ]
     },
     "metadata": {
      "needs_background": "light"
     },
     "output_type": "display_data"
    }
   ],
   "source": [
    "\n",
    "#convert the Transpose rating matrix into a sparse matrix in csr format, rows will be the joke vectors\n",
    "R = sp_sparse.csr_matrix(rating_matrix.T)\n",
    "\n",
    "def ICF(A, k, u, j):\n",
    "    \n",
    "    #get vector of J, and find indices of jokes that were rated by user u \n",
    "    j_vector = A[j, :]\n",
    "    jokes = np.nonzero(A[:, u])[0] \n",
    "    \n",
    "    #compute similarities between jokes that were rated by u and joke j\n",
    "    vectors = A[jokes]\n",
    "    similarities = cs(vectors, j_vector).flatten()\n",
    "\n",
    "    # get scores of j' by user u then sort similarities and scores at the same time\n",
    "    scores = vectors[:, u].data\n",
    "    combined = list(zip(similarities, scores)) \n",
    "    combined.sort(reverse=True)\n",
    "    \n",
    "    #similar jokes should be at most k\n",
    "    combined = combined[0 : k]\n",
    "    lsts = list(zip(*combined))\n",
    "    \n",
    "    l1 = np.array(lsts[0])\n",
    "    l2 = np.array(lsts[1])\n",
    "    s = np.absolute(l1).sum()\n",
    "       \n",
    "    #case where all similarities are zero, predict mean of j\n",
    "    if s == 0: return joke_means[j]\n",
    "    \n",
    "    #finally predict the score\n",
    "    return np.dot(l1.T, l2)/s\n",
    "\n",
    "ks = [1,2,5,7,10]\n",
    "error = []\n",
    "\n",
    "for k in ks:\n",
    "    predictions = []\n",
    "    start_time = time.time()\n",
    "    for i in range(10000):\n",
    "        row = test_data.iloc[i]\n",
    "        predictions.append(ICF(R, k, row['user_id'], row['joke_id']))\n",
    "    print(\"--- %s seconds for %s similar jokes ---\" % (time.time() - start_time, k))\n",
    "    er = math.sqrt(mse(predictions, test_data['Rating']))\n",
    "    error.append(er)\n",
    "    print(\"Mean Squere Error: %s\" % (er))\n",
    "    print('---------------------------')\n",
    "    \n",
    "sns.lineplot(x=ks, y=error, legend='brief', label=str('RMSE'))"
   ]
  },
  {
   "cell_type": "markdown",
   "id": "6a37cb17-a058-46f9-be52-1891c06b813b",
   "metadata": {},
   "source": [
    "# Comments:\n",
    "For the ICF algorithm we see that it is faster than the UCF due to the smaller number of joke vectors, having significantly better performance in predictions. We observe that for 10 identical jokes we get the minimum error. In addition, we can conclude that the jokes vectors contain much more information than the users' vectors, since with only 10 we have a better RMSE than the UCF."
   ]
  },
  {
   "cell_type": "markdown",
   "id": "3ddd8b45-6563-4c03-a48c-0d096103f191",
   "metadata": {},
   "source": [
    "# SVD"
   ]
  },
  {
   "cell_type": "code",
   "execution_count": 111,
   "id": "5f8473b4-1a1f-4b08-a087-438424bea7af",
   "metadata": {},
   "outputs": [
    {
     "name": "stdout",
     "output_type": "stream",
     "text": [
      "--- 1.8022539615631104 seconds for rank-2 matrix ---\n",
      "--- 1.7527573108673096 seconds for rank-3 matrix ---\n",
      "--- 1.8066110610961914 seconds for rank-4 matrix ---\n",
      "--- 1.8538153171539307 seconds for rank-5 matrix ---\n",
      "--- 1.9587464332580566 seconds for rank-6 matrix ---\n",
      "--- 1.8096866607666016 seconds for rank-7 matrix ---\n",
      "--- 1.8566648960113525 seconds for rank-8 matrix ---\n",
      "--- 1.8348093032836914 seconds for rank-9 matrix ---\n",
      "--- 1.857776165008545 seconds for rank-10 matrix ---\n",
      "--- 1.8306543827056885 seconds for rank-11 matrix ---\n",
      "--- 1.8557493686676025 seconds for rank-12 matrix ---\n",
      "--- 1.8578579425811768 seconds for rank-13 matrix ---\n",
      "--- 2.093268871307373 seconds for rank-14 matrix ---\n",
      "--- 1.9519994258880615 seconds for rank-15 matrix ---\n",
      "--- 1.9364173412322998 seconds for rank-16 matrix ---\n",
      "--- 1.9442291259765625 seconds for rank-17 matrix ---\n",
      "--- 1.924891471862793 seconds for rank-18 matrix ---\n",
      "--- 1.9680087566375732 seconds for rank-19 matrix ---\n",
      "--- 1.981410026550293 seconds for rank-20 matrix ---\n",
      "\n",
      "Best RMSE achieved: 4.641556252995156 with 4 largest singular vectors\n"
     ]
    },
    {
     "data": {
      "text/plain": [
       "<matplotlib.lines.Line2D at 0x1accb2ee20>"
      ]
     },
     "execution_count": 111,
     "metadata": {},
     "output_type": "execute_result"
    },
    {
     "data": {
      "image/png": "[encoded data removed]",
      "text/plain": [
       "<Figure size 720x360 with 1 Axes>"
      ]
     },
     "metadata": {
      "needs_background": "light"
     },
     "output_type": "display_data"
    }
   ],
   "source": [
    "#convert the rating matrix into a sparse matrix in csr format\n",
    "R = sp_sparse.csr_matrix(rating_matrix, dtype=float)\n",
    "\n",
    "#Compute the largest k singular values/vectors for matrix R\n",
    "def get_svd(R, k):\n",
    "    u, s, vh = svds(R, k=k, which='LM')\n",
    "    return np.dot(u, np.dot(np.diag(s), vh))\n",
    "\n",
    "ks = [i for i in range(2, 21)]\n",
    "err = []\n",
    "\n",
    "for k in ks:\n",
    "    start_time = time.time()\n",
    "    A = get_svd(R, k)\n",
    "    predictions = []\n",
    "    for i in range(10000):\n",
    "        row = test_data.iloc[i]\n",
    "        predictions.append(A[int(row['user_id']), int(row['joke_id'])])\n",
    "    err.append(math.sqrt(mse(test_data['Rating'], predictions)))\n",
    "    predictions = []\n",
    "    print(\"--- %s seconds for rank-%s matrix ---\" % (time.time() - start_time, k))\n",
    "\n",
    "print(\"\\nBest RMSE achieved: %s with %s largest singular vectors\" % (err[2], 4))\n",
    "\n",
    "fig, axs = plt.subplots(1, figsize=(10, 5))\n",
    "sns.lineplot(x=ks, y=err, legend='brief', label=str('RMSE'))\n",
    "axs.axvline(x = 4, ymin = 0, ymax = 1, color ='red')"
   ]
  },
  {
   "cell_type": "markdown",
   "id": "f3477592-3f2b-48a0-a87c-b51daa49b630",
   "metadata": {},
   "source": [
    "# Comments:\n",
    "In the case of SVD we have very low execution times since for the predictions only the calculation of the Rank-k matrix is required. The best prediction error is the largest in relation to the previous algorithms except JA and is made in case we have k = 4 larger singular values."
   ]
  },
  {
   "cell_type": "markdown",
   "id": "427f9229-fc7c-4c8d-8901-66e753c78056",
   "metadata": {},
   "source": [
    "## Improved-UCF Predict the deviations from the mean."
   ]
  },
  {
   "cell_type": "code",
   "execution_count": 85,
   "id": "9be0130e-8b34-4202-9298-3aa4ee938640",
   "metadata": {},
   "outputs": [],
   "source": [
    "#center the rating matrix and keep means of users\n",
    "user_means = rating_matrix[rating_matrix!=0].mean(axis=1)\n",
    "norm_matrix = rating_matrix[rating_matrix!=0].sub(user_means, axis=0)\n",
    "norm_matrix.fillna(0, inplace=True)"
   ]
  },
  {
   "cell_type": "code",
   "execution_count": 87,
   "id": "c3e16839-d696-4ff0-b03a-01c37bcfb1da",
   "metadata": {},
   "outputs": [
    {
     "name": "stdout",
     "output_type": "stream",
     "text": [
      "--- 422.82665252685547 seconds for 10 similar users ---\n",
      "Mean Squere Error: 4.32975501622402\n",
      "---------------------------\n",
      "--- 383.6828668117523 seconds for 25 similar users ---\n",
      "Mean Squere Error: 4.2736846278163485\n",
      "---------------------------\n",
      "--- 382.3979570865631 seconds for 50 similar users ---\n",
      "Mean Squere Error: 4.250484992804718\n",
      "---------------------------\n",
      "--- 385.7773702144623 seconds for 75 similar users ---\n",
      "Mean Squere Error: 4.243310959336248\n",
      "---------------------------\n",
      "--- 384.9828097820282 seconds for 100 similar users ---\n",
      "Mean Squere Error: 4.239517465941733\n",
      "---------------------------\n"
     ]
    },
    {
     "data": {
      "text/plain": [
       "<AxesSubplot:>"
      ]
     },
     "execution_count": 87,
     "metadata": {},
     "output_type": "execute_result"
    },
    {
     "data": {
      "image/png": "[encoded data removed]",
      "text/plain": [
       "<Figure size 432x288 with 1 Axes>"
      ]
     },
     "metadata": {
      "needs_background": "light"
     },
     "output_type": "display_data"
    }
   ],
   "source": [
    "#convert the rating matrix into a sparse matrix in csr format\n",
    "R = sp_sparse.csr_matrix(norm_matrix)\n",
    "\n",
    "def Normalized_UCF(A, k, u, j):\n",
    "    \n",
    "    #get vector of u, and find indices of users that rated j\n",
    "    users = np.nonzero(A[:, j])[0]    \n",
    "    u_vector = A[u, :]\n",
    "\n",
    "    #compute similarities between users that rated j and user u\n",
    "    vectors = A[users]\n",
    "    similarities = cs(vectors, u_vector).flatten()\n",
    "    \n",
    "    #sort similarities and scores at the same time\n",
    "    scores = vectors[:, j].data\n",
    "    combined = list(zip(similarities, scores))\n",
    "    combined.sort(reverse=True)\n",
    "    \n",
    "    #similar users should be at most k\n",
    "    combined = combined[0 : k]\n",
    "    lsts = list(zip(*combined))\n",
    "    \n",
    "    l1 = np.array(lsts[0])\n",
    "    l2 = np.array(lsts[1])\n",
    "    s = np.absolute(l1).sum()\n",
    "    \n",
    "    #case where all similarities are zero, predict mean of u\n",
    "    if s == 0: return user_means[u]\n",
    "    \n",
    "    #finally predict the score\n",
    "    return user_means[u] + np.dot(l1.T, l2)/s\n",
    "\n",
    "ks = [10,25,50,75,100]\n",
    "error = []\n",
    "\n",
    "for k in ks:\n",
    "    predictions = []\n",
    "    start_time = time.time()\n",
    "    for i in range(10000):\n",
    "        row = test_data.iloc[i]\n",
    "        prediction = Normalized_UCF(R, k, row['user_id'], row['joke_id'])\n",
    "        predictions.append(prediction)\n",
    "    print(\"--- %s seconds for %s similar users ---\" % (time.time() - start_time, k))\n",
    "    er = math.sqrt(mse(predictions, test_data['Rating']))\n",
    "    error.append(er)\n",
    "    print(\"Mean Squere Error: %s\" % (er))\n",
    "    print('---------------------------')\n",
    "    \n",
    "sns.lineplot(x=ks, y=error, legend='brief', label=str('RMSE'))"
   ]
  },
  {
   "cell_type": "markdown",
   "id": "e605e71c-74b4-480d-b5c5-994f20e90241",
   "metadata": {},
   "source": [
    "We observe that a modified UCF which predicts deviations from the mean value has a significant improvement over the simple UCF."
   ]
  },
  {
   "cell_type": "markdown",
   "id": "4ba10c64-8df0-4bd1-8fe2-b5b4147e67da",
   "metadata": {},
   "source": [
    "# Cluster Based Methods\n",
    "<b>A: Determine the optimal number of clusters using the SSE and SC<b/>"
   ]
  },
  {
   "cell_type": "code",
   "execution_count": 124,
   "id": "a82f75a5-d154-45b3-ab07-81bc828cc8a4",
   "metadata": {},
   "outputs": [
    {
     "name": "stdout",
     "output_type": "stream",
     "text": [
      "--- 1275.2647075653076 seconds ---\n"
     ]
    },
    {
     "data": {
      "image/png": "[encoded data removed]",
      "text/plain": [
       "<Figure size 432x288 with 2 Axes>"
      ]
     },
     "metadata": {
      "needs_background": "light"
     },
     "output_type": "display_data"
    }
   ],
   "source": [
    "\n",
    "R = sp_sparse.csr_matrix(rating_matrix)\n",
    "\n",
    "ks = [k for k in range(2, 11)]\n",
    "results = {\"sc\":[], \"sse\":[]}\n",
    "\n",
    "start_time = time.time()\n",
    "\n",
    "for k in ks:\n",
    "    kmeans = KMeans(init='k-means++', n_clusters=k)\n",
    "    cluster_labels = kmeans.fit_predict(R)\n",
    "    sse = kmeans.inertia_\n",
    "    sc = metrics.silhouette_score(R, cluster_labels)\n",
    "    results[\"sc\"].append(sc)\n",
    "    results[\"sse\"].append(sse)\n",
    "\n",
    "results[\"ks\"] = ks\n",
    "\n",
    "fig, ax1 = plt.subplots()\n",
    "color = 'tab:red'\n",
    "ax1.set_xlabel('number of clusters')\n",
    "ax1.set_ylabel('silhoutte score', color=color)\n",
    "ax1.plot(results[\"ks\"], results[\"sc\"], color=color)\n",
    "ax1.tick_params(axis='y', labelcolor=color)\n",
    "\n",
    "ax2 = ax1.twinx() # instantiate a second axes that shares the same x-axis\n",
    "\n",
    "color = 'tab:blue'\n",
    "ax2.set_ylabel('SSE', color=color) # we already handled the x-label with ax1\n",
    "ax2.plot(results[\"ks\"], results[\"sse\"], color=color)\n",
    "ax2.tick_params(axis='y', labelcolor=color)\n",
    "fig.tight_layout()\n",
    "\n",
    "print(\"--- %s seconds ---\" % (time.time() - start_time))\n",
    "\n"
   ]
  },
  {
   "cell_type": "markdown",
   "id": "3de89a31-34d8-4652-9315-5731afd3631e",
   "metadata": {},
   "source": [
    "From the combined graph of SC and SSE we see that ideal cluster values ​​would be k = 3 or k = 4 based on the elbow method and the sillhouete score."
   ]
  },
  {
   "cell_type": "markdown",
   "id": "9e8f0661-09ca-4d99-8209-93bbbc0a625e",
   "metadata": {},
   "source": [
    "## Cluster-Based JA\n",
    "<b>Kmeans with n_clusters = 4 <b/>"
   ]
  },
  {
   "cell_type": "code",
   "execution_count": 91,
   "id": "42413245-255d-4a4c-8451-a4f3363d1d5e",
   "metadata": {},
   "outputs": [],
   "source": [
    "R = sp_sparse.csr_matrix(rating_matrix)\n",
    "\n",
    "#apply Kmeans on matrix R with k = 4 clusters\n",
    "kmeans = KMeans(init='k-means++', n_clusters=4)\n",
    "cluster_labels = np.array(kmeans.fit_predict(R))     # what cluster a user belongs to\n",
    "centers = np.array(kmeans.cluster_centers_.tolist()) # 4 rating vectors of 4 users as the centers\n"
   ]
  },
  {
   "cell_type": "code",
   "execution_count": 167,
   "id": "f7ff4899-e8f1-46ea-9156-1e3c6ed2fc97",
   "metadata": {},
   "outputs": [
    {
     "name": "stdout",
     "output_type": "stream",
     "text": [
      "4.626514234274416\n",
      "--- 51.7416627407074 seconds ---\n"
     ]
    }
   ],
   "source": [
    "\n",
    "def Cluster_BasedJA(A, labels, u, j):\n",
    "    \n",
    "    #find cluster of u and user_ids in the cluster\n",
    "    cluster = labels[u]\n",
    "    user_ids = np.where(labels == cluster)\n",
    "    \n",
    "    #get ratings of j in the cluster\n",
    "    ratings = A[user_ids, j].data\n",
    "    \n",
    "    #return mean in the cluster or mean of j\n",
    "    if len(ratings) == 0:\n",
    "        return A[:, j].data.mean()\n",
    "    else:\n",
    "        return ratings.mean()\n",
    "\n",
    "start_time = time.time()\n",
    "err = []\n",
    "for i in range(10000):\n",
    "    row = test_data.iloc[i]\n",
    "    x = Cluster_BasedJA(R, cluster_labels, int(row['user_id']), row['joke_id'])\n",
    "    err.append(x)\n",
    "print(math.sqrt(mse(err, test_data['Rating'])))\n",
    "print(\"--- %s seconds ---\" % (time.time() - start_time))"
   ]
  },
  {
   "cell_type": "markdown",
   "id": "79514eea-d6d2-4ec5-93e9-51aa5c7cc54d",
   "metadata": {},
   "source": [
    "## Cluster-BasedUCF"
   ]
  },
  {
   "cell_type": "code",
   "execution_count": 92,
   "id": "365cf608-7c70-4e51-abe7-4806b9e888a0",
   "metadata": {},
   "outputs": [
    {
     "name": "stdout",
     "output_type": "stream",
     "text": [
      "4.36049523099198\n",
      "--- 188.80969262123108 seconds ---\n"
     ]
    }
   ],
   "source": [
    "#create a sparse diagonal matrix with 1 in the corresponding rows\n",
    "def slicer(A, indeces):\n",
    "    extractor = np.zeros(A.shape[0], dtype=int)\n",
    "    extractor[indeces] = 1\n",
    "    return np.dot(sp_sparse.diags(extractor, format='csr'), A)\n",
    "\n",
    "def Cluster_BasedUCF(A, labels, u, j):\n",
    "    \n",
    "    #find cluster of u and user_ids in the cluster\n",
    "    cluster = labels[u]\n",
    "    user_ids = np.where(labels == cluster)[0]\n",
    "    \n",
    "    #get the sparse submatrix\n",
    "    Ah = slicer(A, user_ids)\n",
    "    \n",
    "    #run UCF on the submatrix\n",
    "    return UCF(Ah, 100, u, j)\n",
    "\n",
    "start_time = time.time()\n",
    "err = []\n",
    "for i in range(10000):\n",
    "    row = test_data.iloc[i]\n",
    "    x = Cluster_BasedUCF(R, cluster_labels, int(row['user_id']), row['joke_id'])\n",
    "    err.append(x)\n",
    "print(math.sqrt(mse(err, test_data['Rating'])))\n",
    "print(\"--- %s seconds ---\" % (time.time() - start_time))"
   ]
  },
  {
   "cell_type": "markdown",
   "id": "297366ca-939d-4706-9d75-15af80b88aad",
   "metadata": {},
   "source": [
    "# NOTES\n",
    "From the results we see that the algorithms achieve a similar RMSE with the previous algorithms, with the CB-UCF having better results since it uses the UCF which is generally more efficient than the algorithms that work with the means. In addition, we observe that CB-UCF is faster than the ordinary UCF since it works with similarities in a subset of data, which has already been grouped."
   ]
  },
  {
   "cell_type": "markdown",
   "id": "d0969db0-a68e-4167-b0d5-fe3ac60c37da",
   "metadata": {},
   "source": [
    "## Cluster-Based UA (CB-UA)"
   ]
  },
  {
   "cell_type": "markdown",
   "id": "7f1d05b7-dc40-402c-a2fd-1f516563cf96",
   "metadata": {},
   "source": [
    "<b>A: Determine the optimal number of clusters using the SSE and SC<b/>"
   ]
  },
  {
   "cell_type": "code",
   "execution_count": 5,
   "id": "03a51a4d-5e1d-454b-9e87-dc6b35d53606",
   "metadata": {},
   "outputs": [
    {
     "name": "stdout",
     "output_type": "stream",
     "text": [
      "--- 1.263878583908081 seconds ---\n"
     ]
    },
    {
     "data": {
      "image/png": "[encoded data removed]",
      "text/plain": [
       "<Figure size 432x288 with 2 Axes>"
      ]
     },
     "metadata": {
      "needs_background": "light"
     },
     "output_type": "display_data"
    }
   ],
   "source": [
    "\n",
    "Jokes = pd.read_csv('jokes.csv')\n",
    "\n",
    "###############preprocessing####################\n",
    "tfidf_vectorizer = tfidf(analyzer = 'word', stop_words = 'english')\n",
    "data = Jokes['joke_text'].tolist()\n",
    "\n",
    "tfidf_matrix = tfidf_vectorizer.fit_transform(data)\n",
    "################################################\n",
    "\n",
    "ks = [k for k in range(2, 11)]\n",
    "results = {\"sc\":[], \"sse\":[]}\n",
    "\n",
    "start_time = time.time()\n",
    "for k in ks:\n",
    "    kmeans = KMeans(init='k-means++', n_clusters=k)\n",
    "    cluster_labels = kmeans.fit_predict(tfidf_matrix)\n",
    "    sse = kmeans.inertia_\n",
    "    sc = metrics.silhouette_score(tfidf_matrix, cluster_labels)\n",
    "    results[\"sc\"].append(sc)\n",
    "    results[\"sse\"].append(sse)\n",
    "\n",
    "results[\"ks\"] = ks\n",
    "\n",
    "fig, ax1 = plt.subplots()\n",
    "color = 'tab:red'\n",
    "ax1.set_xlabel('number of clusters')\n",
    "ax1.set_ylabel('silhoutte score', color=color)\n",
    "ax1.plot(results[\"ks\"], results[\"sc\"], color=color)\n",
    "ax1.tick_params(axis='y', labelcolor=color)\n",
    "\n",
    "ax2 = ax1.twinx() # instantiate a second axes that shares the same x-axis\n",
    "\n",
    "color = 'tab:blue'\n",
    "ax2.set_ylabel('SSE', color=color) # we already handled the x-label with ax1\n",
    "ax2.plot(results[\"ks\"], results[\"sse\"], color=color)\n",
    "ax2.tick_params(axis='y', labelcolor=color)\n",
    "fig.tight_layout()\n",
    "\n",
    "print(\"--- %s seconds ---\" % (time.time() - start_time))\n"
   ]
  },
  {
   "cell_type": "markdown",
   "id": "e82d6844-5f68-477a-9e02-23b293d06ae4",
   "metadata": {},
   "source": [
    "We observe that with 6 clusters we have a balance of SC and SSE."
   ]
  },
  {
   "cell_type": "markdown",
   "id": "5cf18c95-a71a-4a41-a7ca-7abbe744849d",
   "metadata": {},
   "source": [
    "## Cluster-Based UA (CB-UA) with 6 clusters"
   ]
  },
  {
   "cell_type": "code",
   "execution_count": 8,
   "id": "776e5bdd-635a-4a69-a111-3068727431c5",
   "metadata": {
    "tags": []
   },
   "outputs": [
    {
     "name": "stdout",
     "output_type": "stream",
     "text": [
      "4.823906500758725\n",
      "--- 31.954705715179443 seconds ---\n"
     ]
    }
   ],
   "source": [
    "R = sp_sparse.csr_matrix(rating_matrix.T)\n",
    "kmeans = KMeans(init='k-means++', n_clusters=6)\n",
    "cluster_labels = np.array(kmeans.fit_predict(tfidf_matrix))\n",
    "\n",
    "def Cluster_BasedUA(A, labels, u, j):\n",
    "    \n",
    "    #grab cluster of j, and all jokes in the cluster\n",
    "    cluster = labels[j]\n",
    "    jokes = np.where(labels == cluster)\n",
    "    \n",
    "    #grab joke vectors, and rating of u\n",
    "    vectors = A[jokes]\n",
    "    ratings = vectors[:, u].data\n",
    "    \n",
    "    if len(ratings) > 0:\n",
    "        return ratings.mean()\n",
    "    else:\n",
    "        return A[:, u].data.mean()\n",
    "\n",
    "start_time = time.time()\n",
    "err = []\n",
    "for i in range(10000):\n",
    "    row = test_data.iloc[i]\n",
    "    x = Cluster_BasedUA(R, cluster_labels, int(row['user_id']), int(row['joke_id']))\n",
    "    err.append(x)\n",
    "print(math.sqrt(mse(err, test_data['Rating'])))\n",
    "print(\"--- %s seconds ---\" % (time.time() - start_time))\n"
   ]
  },
  {
   "cell_type": "markdown",
   "id": "a49b7ddf-8b82-499a-82ab-e2ca7d432054",
   "metadata": {},
   "source": [
    "# COMMENTS\n",
    "We notice that the CB-UA is generally less accurate than previous algorithms, while being quite fast. This is due to the fact that the Kmeans algorithm does not achieve satisfactory clustering of jokes based on the combined diagram in which we observe a very low SC. If we reduce the number of clusters (k = 6, 5, 4, 3, 2) we have some improvement of the forecasts due to the use of UA in large clusters."
   ]
  }
 ],
 "metadata": {
  "kernelspec": {
   "display_name": "Python 3 (ipykernel)",
   "language": "python",
   "name": "python3"
  },
  "language_info": {
   "codemirror_mode": {
    "name": "ipython",
    "version": 3
   },
   "file_extension": ".py",
   "mimetype": "text/x-python",
   "name": "python",
   "nbconvert_exporter": "python",
   "pygments_lexer": "ipython3",
   "version": "3.8.12"
  }
 },
 "nbformat": 4,
 "nbformat_minor": 5
}
